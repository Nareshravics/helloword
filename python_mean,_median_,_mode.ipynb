{
  "nbformat": 4,
  "nbformat_minor": 0,
  "metadata": {
    "colab": {
      "provenance": []
    },
    "kernelspec": {
      "name": "python3",
      "display_name": "Python 3"
    },
    "language_info": {
      "name": "python"
    }
  },
  "cells": [
    {
      "cell_type": "code",
      "execution_count": null,
      "metadata": {
        "id": "a0lkf8MO0MTS"
      },
      "outputs": [],
      "source": [
        "print(\"Hello, World!\")"
      ]
    },
    {
      "cell_type": "code",
      "source": [],
      "metadata": {
        "id": "1qZoUiez0h_5"
      },
      "execution_count": null,
      "outputs": []
    },
    {
      "cell_type": "markdown",
      "source": [
        "Mean, Median, and Mode\n",
        "What can we learn from looking at a group of numbers?\n",
        "\n",
        "In Machine Learning (and in mathematics) there are often three values that interests us:\n",
        "\n",
        "Mean - The average value\n",
        "Median - The mid point value\n",
        "Mode - The most common value\n",
        "Example: We have registered the speed of 13 cars:"
      ],
      "metadata": {
        "id": "B4yjuVHV0Ne1"
      }
    },
    {
      "cell_type": "code",
      "source": [
        "speed = [99,86,87,88,111,86,103,87,94,78,77,85,86]"
      ],
      "metadata": {
        "id": "SohS0Esk0jiJ"
      },
      "execution_count": 2,
      "outputs": []
    },
    {
      "cell_type": "markdown",
      "source": [
        "Mean\n",
        "The mean value is the average value.\n",
        "\n",
        "To calculate the mean, find the sum of all values, and divide the sum by the number of values:"
      ],
      "metadata": {
        "id": "1CFmUQCG0d_M"
      }
    },
    {
      "cell_type": "code",
      "source": [
        "(99+86+87+88+111+86+103+87+94+78+77+85+86) / 13"
      ],
      "metadata": {
        "colab": {
          "base_uri": "https://localhost:8080/"
        },
        "id": "V8g8TCzY_EHe",
        "outputId": "a6257265-5247-4673-e71b-380990cf8412"
      },
      "execution_count": 4,
      "outputs": [
        {
          "output_type": "execute_result",
          "data": {
            "text/plain": [
              "89.76923076923077"
            ]
          },
          "metadata": {},
          "execution_count": 4
        }
      ]
    },
    {
      "cell_type": "code",
      "source": [
        "import numpy\n",
        "\n",
        "speed = [99,86,87,88,111,86,103,87,94,78,77,85,86]\n",
        "\n",
        "x = numpy.mean(speed)\n",
        "\n",
        "print(x)"
      ],
      "metadata": {
        "colab": {
          "base_uri": "https://localhost:8080/"
        },
        "id": "k-FJXmvn_Gr0",
        "outputId": "9265a81f-a21a-40c1-e0c9-5638b430f01d"
      },
      "execution_count": 5,
      "outputs": [
        {
          "output_type": "stream",
          "name": "stdout",
          "text": [
            "89.76923076923077\n"
          ]
        }
      ]
    },
    {
      "cell_type": "markdown",
      "source": [
        "Median\n",
        "The median value is the value in the middle, after you have sorted all the values:"
      ],
      "metadata": {
        "id": "lSNdT7FZ_Zuk"
      }
    },
    {
      "cell_type": "markdown",
      "source": [
        "77, 78, 85, 86, 86, 86, 87, 87, 88, 94, 99, 103, 111"
      ],
      "metadata": {
        "id": "veMqXh9t_cpS"
      }
    },
    {
      "cell_type": "code",
      "source": [
        "import numpy\n",
        "\n",
        "speed = [99,86,87,88,111,86,103,87,94,78,77,85,86]\n",
        "\n",
        "x = numpy.median(speed)\n",
        "\n",
        "print(x)"
      ],
      "metadata": {
        "colab": {
          "base_uri": "https://localhost:8080/"
        },
        "id": "ocpbpIw6_K-G",
        "outputId": "7b50f365-c2bf-4220-a6c3-ccbb3e62ec94"
      },
      "execution_count": 6,
      "outputs": [
        {
          "output_type": "stream",
          "name": "stdout",
          "text": [
            "87.0\n"
          ]
        }
      ]
    },
    {
      "cell_type": "code",
      "source": [
        "77, 78, 85, 86, 86, 86, 87, 87, 94, 98, 99, 103\n",
        "\n",
        "(86 + 87) / 2"
      ],
      "metadata": {
        "colab": {
          "base_uri": "https://localhost:8080/"
        },
        "id": "bT60TwBC_gKu",
        "outputId": "48a616f0-4ea4-4453-aac4-0deb21711c2c"
      },
      "execution_count": 7,
      "outputs": [
        {
          "output_type": "execute_result",
          "data": {
            "text/plain": [
              "86.5"
            ]
          },
          "metadata": {},
          "execution_count": 7
        }
      ]
    },
    {
      "cell_type": "code",
      "source": [
        "import numpy\n",
        "\n",
        "speed = [99,86,87,88,86,103,87,94,78,77,85,86]\n",
        "\n",
        "x = numpy.median(speed)\n",
        "\n",
        "print(x)"
      ],
      "metadata": {
        "colab": {
          "base_uri": "https://localhost:8080/"
        },
        "id": "W_YtuFvh_LDC",
        "outputId": "ef14ebc5-6157-448f-d99a-049a6b2da9fa"
      },
      "execution_count": 8,
      "outputs": [
        {
          "output_type": "stream",
          "name": "stdout",
          "text": [
            "86.5\n"
          ]
        }
      ]
    },
    {
      "cell_type": "markdown",
      "source": [
        "Mode\n",
        "The Mode value is the value that appears the most number of times:"
      ],
      "metadata": {
        "id": "aUoDM8teAGCX"
      }
    },
    {
      "cell_type": "markdown",
      "source": [
        "99, 86, 87, 88, 111, 86, 103, 87, 94, 78, 77, 85, 86 = 86"
      ],
      "metadata": {
        "id": "3UNOnO6wAJS6"
      }
    },
    {
      "cell_type": "code",
      "source": [
        "from scipy import stats\n",
        "\n",
        "speed = [99,86,87,88,111,86,103,87,94,78,77,85,86]\n",
        "\n",
        "x = stats.mode(speed)\n",
        "\n",
        "print(x)"
      ],
      "metadata": {
        "colab": {
          "base_uri": "https://localhost:8080/"
        },
        "id": "r4G5JPiF_pH1",
        "outputId": "a0f5cd63-c794-41f9-b082-bcffdf2b2631"
      },
      "execution_count": 9,
      "outputs": [
        {
          "output_type": "stream",
          "name": "stdout",
          "text": [
            "ModeResult(mode=86, count=3)\n"
          ]
        }
      ]
    },
    {
      "cell_type": "code",
      "source": [],
      "metadata": {
        "id": "py_AyJfUAMDp"
      },
      "execution_count": null,
      "outputs": []
    }
  ]
}